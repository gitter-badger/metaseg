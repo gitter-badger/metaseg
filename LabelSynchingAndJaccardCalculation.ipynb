{
 "cells": [
  {
   "cell_type": "code",
   "execution_count": 1,
   "metadata": {
    "collapsed": true
   },
   "outputs": [],
   "source": [
    "from PIL import Image\n",
    "import numpy as np\n",
    "from tifffile import imread,imsave\n",
    "from sklearn.metrics import jaccard_score, f1_score, recall_score, precision_score\n",
    "from glob import glob\n",
    "import random\n",
    "import os"
   ]
  },
  {
   "cell_type": "code",
   "execution_count": 122,
   "metadata": {},
   "outputs": [],
   "source": [
    "im_path = glob('/Users/prakash/Desktop/MetaSeg_Data_Version1/CTC_GOWT1/SIMPLE_binary/unsynched/*.tif')\n",
    "goldGT_TRA_path = glob('/Users/prakash/Desktop/MetaSeg_Data_Version1/CTC_GOWT1/SEG/*.tif')\n",
    "temp_path = '/Users/prakash/Desktop/MetaSeg_Data_Version1/CTC_GOWT1/SIMPLE_binary/temp/'\n",
    "out_path = '/Users/prakash/Desktop/MetaSeg_Data_Version1/CTC_GOWT1/SIMPLE_binary/synched/'"
   ]
  },
  {
   "cell_type": "code",
   "execution_count": 123,
   "metadata": {
    "collapsed": true
   },
   "outputs": [],
   "source": [
    "for i in range(len(goldGT_TRA_path)):\n",
    "    \n",
    "    im_name = im_path[i]\n",
    "    im_seg = imread(im_name)\n",
    "    goldGT_TRA_name = goldGT_TRA_path[i]\n",
    "    tra_markers_im = imread(goldGT_TRA_name)    # load TRA markers. i.e. source for label-sync\n",
    "    tra_markers = np.unique(tra_markers_im)[1:]     # excluding BG:0\n",
    "    result_markers = np.unique(im_seg)[1:] # excluding BG:0\n",
    "    temp_ids = np.arange(np.max(tra_markers),np.max(tra_markers)+len(result_markers),1)\n",
    " \n",
    "    if len(temp_ids)<len(result_markers):\n",
    "        print(tra_markers, result_markers)\n",
    "        print(temp_ids)\n",
    "        raise \"Not enough temporary ids to relabel, exiting.\"\n",
    "    \n",
    "    temp_id_counter = 0\n",
    "    seg_copy = np.zeros((im_seg.shape[0], im_seg.shape[1]))\n",
    "    for cell_index in result_markers:\n",
    "        seg_copy[im_seg == cell_index] = temp_ids[temp_id_counter]\n",
    "        temp_id_counter+=1\n",
    "    if not os.path.exists(temp_path):\n",
    "        os.mkdir(temp_path)\n",
    "    imsave(temp_path+\"mask\"+str(i).zfill(3)+\".tif\", seg_copy.astype(np.uint16))   # Fix dpi value for all available results. STAPLE executable requires inputs with same dpi\n"
   ]
  },
  {
   "cell_type": "code",
   "execution_count": 124,
   "metadata": {
    "collapsed": true
   },
   "outputs": [],
   "source": [
    "for i in range(len(goldGT_TRA_path)):\n",
    "    im_name = im_path[i]\n",
    "    im_seg = imread(im_name)\n",
    "    goldGT_TRA_name = goldGT_TRA_path[i]\n",
    "    tra_markers_im = imread(goldGT_TRA_name)    # load TRA markers. i.e. source for label-sync\n",
    "    tra_markers = np.unique(tra_markers_im)[1:]     # excluding BG:0\n",
    "        \n",
    "    im_out = np.copy(im_seg)\n",
    "    for cell_index in tra_markers:\n",
    "        im_tra = np.copy(tra_markers_im)\n",
    "        im_tra[im_tra != cell_index] = 0  # keep only one cell to process each cell individually\n",
    "        im_tra[im_tra == cell_index] = 1   # to keep values in the multiplication operation\n",
    "        size_traGT = np.count_nonzero(im_tra)\n",
    "        intersection = im_tra * im_seg\n",
    "        size_intersect = np.count_nonzero(intersection)\n",
    "        labels,count = np.unique(intersection, return_counts=True)\n",
    "        count_sort_ind = np.argsort(-count)\n",
    "        sorted_labels = labels[count_sort_ind]\n",
    "        if(sorted_labels[0]==0 and len(sorted_labels)>1): #If background label has most counts, then consider the second most\n",
    "            label_by_participant = sorted_labels[1]\n",
    "        elif (sorted_labels[0]!=0):\n",
    "            label_by_participant = sorted_labels[0]\n",
    "        else: #If background is the only label in result for any GT object\n",
    "            continue\n",
    "\n",
    "        label_coordinates = np.where(im_seg == label_by_participant)\n",
    "        if size_intersect >= (size_traGT/2):            # if the current marker covers at least half of the TRA marker\n",
    "            im_out[label_coordinates] = cell_index      # sync! keep the current label but change its value to TRA GT\n",
    "#         else:\n",
    "#             im_out[label_coordinates] = 0             # else consider the marker as FP and delete it. like the BIC algorithm.\n",
    "    \n",
    "    if not os.path.exists(out_path):\n",
    "        os.mkdir(out_path)\n",
    "    imsave(out_path+\"mask\"+str(i).zfill(3)+\".tif\", im_out.astype(np.uint16))   # Fix dpi value for all available results. STAPLE executable requires inputs with same dpi"
   ]
  },
  {
   "cell_type": "markdown",
   "metadata": {},
   "source": [
    "### Jaccard score computation"
   ]
  },
  {
   "cell_type": "code",
   "execution_count": 125,
   "metadata": {
    "collapsed": true
   },
   "outputs": [],
   "source": [
    "import shutil\n",
    "shutil.rmtree(temp_path)"
   ]
  },
  {
   "cell_type": "code",
   "execution_count": 126,
   "metadata": {},
   "outputs": [
    {
     "name": "stdout",
     "output_type": "stream",
     "text": [
      "DICE score: 0.8485059651297209\n",
      "F1 score: 0.8071464910504222\n"
     ]
    }
   ],
   "source": [
    "n_images = len(goldGT_TRA_path)\n",
    "jaccard_per_time = []\n",
    "f1_per_time = []\n",
    "recall_per_time = []\n",
    "precision_per_time = []\n",
    "for i in range(n_images):\n",
    "    \n",
    "    im_name = imread(out_path+\"mask\"+str(i).zfill(3)+\".tif\")\n",
    "    goldGT_TRA_dir =imread(goldGT_TRA_path[i])\n",
    "    img_true=np.array(goldGT_TRA_dir).ravel()\n",
    "    img_pred=np.array(im_name).ravel()\n",
    "    j = jaccard_score(img_true, img_pred, average=None)\n",
    "    f1= f1_score(img_true, img_pred, average=None)\n",
    "#     recall = recall_score(img_true, img_pred, average = None)\n",
    "#     precision = precision_score(img_true, img_pred, average = None)\n",
    "    jaccard_per_time.append(np.mean(j[1:])) # Ignoring the first element, i.e, background label 0 matching\n",
    "    f1_per_time.append(np.mean(f1[1:]))\n",
    "#     recall_per_time.append(np.mean(recall[1:]))\n",
    "#     precision_per_time.append(np.mean(precision[1:]))\n",
    "    #Calculate metrics for each label, and find their unweighted mean. This does not take label imbalance into account.\n",
    "    # If None, the scores for each class are returned. \n",
    "iou = np.mean(np.array(jaccard_per_time))\n",
    "f1_mean = np.mean(np.array(f1_per_time))\n",
    "# recall_mean = np.mean(np.array(recall_per_time))\n",
    "# precision_mean = np.mean(np.array(precision_per_time))\n",
    "print(\"DICE score:\", 2*iou/(1+iou))\n",
    "print(\"F1 score:\", f1_mean)\n",
    "# print(\"Recall score:\", recall_mean)\n",
    "# print(\"Precision score:\", precision_mean)"
   ]
  },
  {
   "cell_type": "code",
   "execution_count": null,
   "metadata": {
    "collapsed": true
   },
   "outputs": [],
   "source": []
  }
 ],
 "metadata": {
  "kernelspec": {
   "display_name": "metasegScores",
   "language": "python",
   "name": "metasegscores"
  },
  "language_info": {
   "codemirror_mode": {
    "name": "ipython",
    "version": 3
   },
   "file_extension": ".py",
   "mimetype": "text/x-python",
   "name": "python",
   "nbconvert_exporter": "python",
   "pygments_lexer": "ipython3",
   "version": "3.7.5"
  }
 },
 "nbformat": 4,
 "nbformat_minor": 2
}
