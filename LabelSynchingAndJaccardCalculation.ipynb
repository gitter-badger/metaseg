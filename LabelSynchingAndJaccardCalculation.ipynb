{
 "cells": [
  {
   "cell_type": "code",
   "execution_count": 1,
   "metadata": {
    "collapsed": true
   },
   "outputs": [],
   "source": [
    "from PIL import Image\n",
    "import numpy as np\n",
    "from tifffile import imread,imsave\n",
    "from sklearn.metrics import jaccard_score\n",
    "from glob import glob\n",
    "import random\n",
    "import os"
   ]
  },
  {
   "cell_type": "code",
   "execution_count": 2,
   "metadata": {
    "collapsed": true
   },
   "outputs": [],
   "source": [
    "def setdiff_sorted(array1,array2,assume_unique=False):\n",
    "    ans = np.setdiff1d(array1,array2,assume_unique).tolist()\n",
    "    if assume_unique:\n",
    "        return sorted(ans)\n",
    "    return ans"
   ]
  },
  {
   "cell_type": "code",
   "execution_count": 3,
   "metadata": {
    "collapsed": true
   },
   "outputs": [],
   "source": [
    "im_path = glob('/Users/prakash/Desktop/MetaSeg_Data_Version1/c.elegans/filtered_labels/label1_filtered/unsynched/*.tif')\n",
    "goldGT_TRA_path = glob('/Users/prakash/Desktop/MetaSeg_Data_Version1/c.elegans/SEG/*.tif')\n",
    "temp_path = '/Users/prakash/Desktop/MetaSeg_Data_Version1/c.elegans/filtered_labels/label1_filtered/unsynched/temp/'\n",
    "out_path = '/Users/prakash/Desktop/MetaSeg_Data_Version1/c.elegans/filtered_labels/Sixteenbit_synched_label1/synched/'"
   ]
  },
  {
   "cell_type": "code",
   "execution_count": 4,
   "metadata": {},
   "outputs": [],
   "source": [
    "for i in range(len(goldGT_TRA_path)):\n",
    "    \n",
    "    im_name = im_path[i]\n",
    "    fp = open(im_name, \"rb\")\n",
    "    im = Image.open(fp)  # open from file object\n",
    "    im.load()  # make sure PIL has read the data\n",
    "    im_seg = np.array(im)\n",
    "    fp.close()  # close the file so that we can re-save it again\n",
    "    goldGT_TRA_name = goldGT_TRA_path[i]\n",
    "    tra_markers_im = imread(goldGT_TRA_name)    # load TRA markers. i.e. source for label-sync\n",
    "    tra_markers = np.unique(tra_markers_im)[1:]     # excluding BG:0\n",
    "    result_markers = np.unique(im_seg)[1:] # excluding BG:0\n",
    "    temp_ids = np.arange(np.max(tra_markers),np.max(tra_markers)+len(result_markers),1)\n",
    " \n",
    "    if len(temp_ids)<len(result_markers):\n",
    "        print(tra_markers, result_markers)\n",
    "        print(temp_ids)\n",
    "        raise \"Not enough temporary ids to relabel, exiting.\"\n",
    "    \n",
    "    temp_id_counter = 0\n",
    "    seg_copy = np.zeros((im_seg.shape[0], im_seg.shape[1]))\n",
    "    for cell_index in result_markers:\n",
    "        seg_copy[im_seg == cell_index] = temp_ids[temp_id_counter]\n",
    "        temp_id_counter+=1\n",
    "    im = Image.fromarray(seg_copy)\n",
    "    if not os.path.exists(temp_path):\n",
    "        os.mkdir(temp_path)\n",
    "    im.save(temp_path+\"mask\"+str(i).zfill(3)+\".tif\", dpi=(25, 25))   # Fix dpi value for all available results. STAPLE executable requires inputs with same dpi\n"
   ]
  },
  {
   "cell_type": "code",
   "execution_count": 5,
   "metadata": {},
   "outputs": [],
   "source": [
    "for i in range(len(goldGT_TRA_path)):\n",
    "    im_name = im_path[i]\n",
    "    im_seg = np.array(imread(im_name))\n",
    "    goldGT_TRA_name = goldGT_TRA_path[i]\n",
    "    tra_markers_im = imread(goldGT_TRA_name)    # load TRA markers. i.e. source for label-sync\n",
    "    tra_markers = np.unique(tra_markers_im)[1:]     # excluding BG:0\n",
    "        \n",
    "    im_out = np.copy(im_seg)\n",
    "    for cell_index in tra_markers:\n",
    "        im_tra = np.copy(tra_markers_im)\n",
    "        im_tra[im_tra != cell_index] = 0  # keep only one cell to process each cell individually\n",
    "        im_tra[im_tra == cell_index] = 1   # to keep values in the multiplication operation\n",
    "        size_traGT = np.count_nonzero(im_tra)\n",
    "        intersection = im_tra * im_seg\n",
    "        size_intersect = np.count_nonzero(intersection)\n",
    "        labels,count = np.unique(intersection, return_counts=True)\n",
    "        count_sort_ind = np.argsort(-count)\n",
    "        sorted_labels = labels[count_sort_ind]\n",
    "        if(sorted_labels[0]==0 and len(sorted_labels)>1): #If background label has most counts, then consider the second most\n",
    "            label_by_participant = sorted_labels[1]\n",
    "        elif (sorted_labels[0]!=0):\n",
    "            label_by_participant = sorted_labels[0]\n",
    "        else: #If background is the only label in result for any GT object\n",
    "            continue\n",
    "\n",
    "        label_coordinates = np.where(im_seg == label_by_participant)\n",
    "        if size_intersect >= (size_traGT/2):            # if the current marker covers at least half of the TRA marker\n",
    "            im_out[label_coordinates] = cell_index      # sync! keep the current label but change its value to TRA GT\n",
    "#         else:\n",
    "#             im_out[label_coordinates] = 0             # else consider the marker as FP and delete it. like the BIC algorithm.\n",
    "    \n",
    "    if not os.path.exists(out_path):\n",
    "        os.mkdir(out_path)\n",
    "    imsave(out_path+\"mask\"+str(i).zfill(3)+\".tif\", im_out.astype(np.uint16))   # Fix dpi value for all available results. STAPLE executable requires inputs with same dpi"
   ]
  },
  {
   "cell_type": "markdown",
   "metadata": {},
   "source": [
    "### Jaccard score computation"
   ]
  },
  {
   "cell_type": "code",
   "execution_count": 6,
   "metadata": {
    "collapsed": true
   },
   "outputs": [],
   "source": [
    "import shutil\n",
    "shutil.rmtree(temp_path)"
   ]
  },
  {
   "cell_type": "code",
   "execution_count": 7,
   "metadata": {},
   "outputs": [
    {
     "name": "stdout",
     "output_type": "stream",
     "text": [
      "DICE score: 0.7229560662619186\n"
     ]
    }
   ],
   "source": [
    "n_images = len(goldGT_TRA_path)\n",
    "jaccard_per_time = []\n",
    "for i in range(n_images):\n",
    "    \n",
    "    im_name = imread(out_path+\"mask\"+str(i).zfill(3)+\".tif\")\n",
    "    goldGT_TRA_dir =imread(goldGT_TRA_path[i])\n",
    "    img_true=np.array(goldGT_TRA_dir).ravel()\n",
    "    img_pred=np.array(im_name).ravel()\n",
    "    j = jaccard_score(img_true, img_pred, average=None)\n",
    "    jaccard_per_time.append(np.mean(j[1:])) # Ignoring the first element, i.e, background label 0 matching\n",
    "    \n",
    "    #Calculate metrics for each label, and find their unweighted mean. This does not take label imbalance into account.\n",
    "    # If None, the scores for each class are returned. \n",
    "iou = np.mean(np.mean(np.array(jaccard_per_time)))\n",
    "print(\"DICE score:\", 2*iou/(1+iou))"
   ]
  },
  {
   "cell_type": "code",
   "execution_count": null,
   "metadata": {
    "collapsed": true
   },
   "outputs": [],
   "source": []
  }
 ],
 "metadata": {
  "kernelspec": {
   "display_name": "metasegScores",
   "language": "python",
   "name": "metasegscores"
  },
  "language_info": {
   "codemirror_mode": {
    "name": "ipython",
    "version": 3
   },
   "file_extension": ".py",
   "mimetype": "text/x-python",
   "name": "python",
   "nbconvert_exporter": "python",
   "pygments_lexer": "ipython3",
   "version": "3.7.5"
  }
 },
 "nbformat": 4,
 "nbformat_minor": 2
}
