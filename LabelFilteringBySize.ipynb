{
 "cells": [
  {
   "cell_type": "code",
   "execution_count": 1,
   "metadata": {
    "collapsed": true
   },
   "outputs": [],
   "source": [
    "import numpy as np\n",
    "from scipy.ndimage import label\n",
    "from tifffile import imread, imsave\n",
    "from glob import glob\n",
    "from scipy import ndimage\n",
    "from skimage.measure import label\n",
    "import os\n",
    "from skimage.measure import label as lb\n",
    "from skimage.measure import regionprops"
   ]
  },
  {
   "cell_type": "code",
   "execution_count": 2,
   "metadata": {
    "collapsed": true
   },
   "outputs": [],
   "source": [
    "seg_filter_size = 100 # Segmentations below this size will be filtered out "
   ]
  },
  {
   "cell_type": "code",
   "execution_count": 3,
   "metadata": {
    "collapsed": true
   },
   "outputs": [],
   "source": [
    "seg_path = glob(\"/Users/prakash/Desktop/MetaSeg_Data_Version1/CTC_GOWT1_2/CTC_GOWT1/unfiltered_labels/label4/*.tif\")\n",
    "filtered_segs_path = \"/Users/prakash/Desktop/MetaSeg_Data_Version1/CTC_GOWT1_2/CTC_GOWT1/filtered_labels/unsynched/label4/\"\n",
    "if not os.path.exists(filtered_segs_path):\n",
    "    os.makedirs(filtered_segs_path)\n",
    "for i in range(len(seg_path)):\n",
    "    segmented_image = imread(seg_path[i])\n",
    "    labels_per_frame = lb(segmented_image).astype(np.uint32)\n",
    "    label_size = []\n",
    "    label_ids = []\n",
    "    regions = regionprops(labels_per_frame)\n",
    "    for props in regions:\n",
    "        label_id = props.label\n",
    "        label_size = props.area\n",
    "        if label_size < seg_filter_size : # Filtering out components smaller than seg_filter_size pixels\n",
    "            labels_per_frame[ labels_per_frame == label_id ] = 0\n",
    "    imsave(filtered_segs_path+\"mask\"+str(i).zfill(3)+\".tif\", labels_per_frame.astype(np.uint16))"
   ]
  },
  {
   "cell_type": "code",
   "execution_count": null,
   "metadata": {
    "collapsed": true
   },
   "outputs": [],
   "source": []
  }
 ],
 "metadata": {
  "kernelspec": {
   "display_name": "Python 3",
   "language": "python",
   "name": "python3"
  },
  "language_info": {
   "codemirror_mode": {
    "name": "ipython",
    "version": 3
   },
   "file_extension": ".py",
   "mimetype": "text/x-python",
   "name": "python",
   "nbconvert_exporter": "python",
   "pygments_lexer": "ipython3",
   "version": "3.6.1"
  }
 },
 "nbformat": 4,
 "nbformat_minor": 2
}
