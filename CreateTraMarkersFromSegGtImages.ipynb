{
 "cells": [
  {
   "cell_type": "code",
   "execution_count": 1,
   "metadata": {
    "collapsed": true
   },
   "outputs": [],
   "source": [
    "from PIL import Image\n",
    "import numpy as np\n",
    "from tifffile import imread,imsave\n",
    "from skimage.measure import regionprops\n",
    "from skimage.draw import circle\n",
    "from glob import glob\n",
    "import random\n",
    "import os"
   ]
  },
  {
   "cell_type": "code",
   "execution_count": 2,
   "metadata": {
    "collapsed": true
   },
   "outputs": [],
   "source": [
    "def createTraMarkers(image):\n",
    "    center_of_mass = [r.centroid for r in regionprops(image)]\n",
    "    dia = [r.equivalent_diameter for r in regionprops(image)]\n",
    "    return center_of_mass, dia"
   ]
  },
  {
   "cell_type": "code",
   "execution_count": 3,
   "metadata": {
    "collapsed": true
   },
   "outputs": [],
   "source": [
    "goldGT_SEG_path = glob('/Users/prakash/Desktop/MetaSeg_Data_Version1/c.elegans/SEG/*.tif')\n",
    "out_path = '/Users/prakash/Desktop/MetaSeg_Data_Version1/c.elegans/TRA/'"
   ]
  },
  {
   "cell_type": "code",
   "execution_count": 4,
   "metadata": {
    "collapsed": true,
    "scrolled": true
   },
   "outputs": [],
   "source": [
    "for i in range(len(goldGT_SEG_path)):\n",
    "    goldGT_SEG_name = goldGT_SEG_path[i]\n",
    "    seg_markers_im = imread(goldGT_SEG_name)    # load TRA markers. i.e. source for label-sync\n",
    "    segMarkerCentroids, dias = createTraMarkers(seg_markers_im)\n",
    "    traImage = np.zeros((seg_markers_im.shape[0], seg_markers_im.shape[1]))\n",
    "    for j in range(len(segMarkerCentroids)):\n",
    "        radius = 0.5*0.5*dias[j]\n",
    "        color = j+1\n",
    "        rr, cc = circle(segMarkerCentroids[j][0], segMarkerCentroids[j][1], radius)\n",
    "        traImage[rr, cc] = color\n",
    "    imsave(out_path+\"man_track\"+str(i).zfill(3)+\".tif\", traImage.astype(np.uint16))   # Fix dpi value for all available results. STAPLE executable requires inputs with same dpi\n"
   ]
  },
  {
   "cell_type": "code",
   "execution_count": null,
   "metadata": {
    "collapsed": true
   },
   "outputs": [],
   "source": []
  }
 ],
 "metadata": {
  "kernelspec": {
   "display_name": "Python 3",
   "language": "python",
   "name": "python3"
  },
  "language_info": {
   "codemirror_mode": {
    "name": "ipython",
    "version": 3
   },
   "file_extension": ".py",
   "mimetype": "text/x-python",
   "name": "python",
   "nbconvert_exporter": "python",
   "pygments_lexer": "ipython3",
   "version": "3.6.1"
  }
 },
 "nbformat": 4,
 "nbformat_minor": 2
}
